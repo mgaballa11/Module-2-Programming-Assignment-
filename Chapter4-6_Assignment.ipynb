{
 "cells": [
  {
   "cell_type": "markdown",
   "id": "a94144e9-e1c6-4fc6-8f88-289f4063e684",
   "metadata": {},
   "source": [
    "4.1 Choose a number between 1 and 10 and assign it to the variable secret. Then, select another number between 1 and 10 and assign it to the variable guess. Next, write the conditional tests (if, else, and elif) to print the string 'too low' if guess is less than secret, 'too high' if greater than secret, and 'just right' if equal to secret.\n"
   ]
  },
  {
   "cell_type": "code",
   "execution_count": 1,
   "id": "f15291cc-fbd7-4c3c-851b-b7ca73adb0ca",
   "metadata": {},
   "outputs": [
    {
     "name": "stdout",
     "output_type": "stream",
     "text": [
      "too low\n"
     ]
    }
   ],
   "source": [
    "# 4.1 \n",
    "secret = 9\n",
    "guess = 2\n",
    "\n",
    "if guess < secret:\n",
    "    print(\"too low\")\n",
    "elif guess > secret:\n",
    "    print(\"too high\")\n",
    "else:\n",
    "    print(\"just right\")\n"
   ]
  },
  {
   "cell_type": "markdown",
   "id": "94eba2f3-701e-4095-b993-6b88d88d4317",
   "metadata": {},
   "source": [
    "Assign True or False to the variables small and green. Write some if/else statements to print which of these matches those choices: cherry, pea, watermelon, pumpkin.\n"
   ]
  },
  {
   "cell_type": "code",
   "execution_count": 5,
   "id": "682c70d8-0a70-4376-ab35-8dcc3d31b8f7",
   "metadata": {},
   "outputs": [
    {
     "name": "stdout",
     "output_type": "stream",
     "text": [
      "cherry\n"
     ]
    }
   ],
   "source": [
    "# 4.2 \n",
    "small = True\n",
    "green = False\n",
    "\n",
    "if small and green:\n",
    "    print('pea')\n",
    "elif small and not green:\n",
    "    print('cherry')\n",
    "elif not small and green:\n",
    "    print('watermelon')\n",
    "elif not small and not green:\n",
    "    print('pumpkin')\n"
   ]
  },
  {
   "cell_type": "markdown",
   "id": "5cb25b23-92a8-423c-98a0-5bfd0cbcac2e",
   "metadata": {},
   "source": [
    "Use a for loop to print the values of the list [3, 2, 1, 0].\n"
   ]
  },
  {
   "cell_type": "code",
   "execution_count": 6,
   "id": "c7ad1e07-1732-4f66-9840-4de6ea11081c",
   "metadata": {},
   "outputs": [
    {
     "name": "stdout",
     "output_type": "stream",
     "text": [
      "3\n",
      "2\n",
      "1\n",
      "0\n"
     ]
    }
   ],
   "source": [
    "# 6.1\n",
    "for value in [3, 2, 1, 0]:\n",
    "    print(value)\n"
   ]
  },
  {
   "cell_type": "markdown",
   "id": "af52a42a-4f9f-408c-bde9-e0a2354aff70",
   "metadata": {},
   "source": [
    "6.2 Assign the value 7 to the variable guess_me, and the value 1 to the variable number. Write a while loop that compares number with guess_me. Print 'too low' if number is less than guess me. If number equals guess_me, print 'found it!' and then exit the loop. If number is greater than guess_me, print 'oops' and then exit the loop. Increment number at the end of the loop."
   ]
  },
  {
   "cell_type": "code",
   "execution_count": 8,
   "id": "170eab34-c0ed-4d19-967e-60882d24c1b7",
   "metadata": {},
   "outputs": [
    {
     "name": "stdout",
     "output_type": "stream",
     "text": [
      "too low\n",
      "too low\n",
      "too low\n",
      "found it!\n"
     ]
    }
   ],
   "source": [
    "# 6.2\n",
    "guess_me = 7\n",
    "number = 4\n",
    "\n",
    "while True:\n",
    "    if number < guess_me:\n",
    "        print(\"too low\")\n",
    "    elif number == guess_me:\n",
    "        print(\"found it!\")\n",
    "        break\n",
    "    else:\n",
    "        print(\"oops\")\n",
    "        break\n",
    "    number += 1\n"
   ]
  },
  {
   "cell_type": "markdown",
   "id": "54f771a5-ebc8-415d-abc8-158f729939b7",
   "metadata": {},
   "source": [
    "Assign the value 5 to the variable guess_me. Use a for loop to iterate a variable called number over range(10). If number is less than guess_me, print 'too low'. If it equals guess_me, print found it! and then break out of the for loop. If number is greater than guess_me, print 'oops' and then exit the loop."
   ]
  },
  {
   "cell_type": "code",
   "execution_count": 11,
   "id": "a8446521-9ef6-4723-8b48-4823b2702269",
   "metadata": {},
   "outputs": [
    {
     "name": "stdout",
     "output_type": "stream",
     "text": [
      "too low\n",
      "too low\n",
      "too low\n",
      "too low\n",
      "too low\n",
      "found it!\n"
     ]
    }
   ],
   "source": [
    "# 6.3\n",
    "guess_me = 5\n",
    "\n",
    "for number in range(10):\n",
    "    if number < guess_me:\n",
    "        print(\"too low\")\n",
    "    elif number == guess_me:\n",
    "        print(\"found it!\")\n",
    "        break\n",
    "    else:\n",
    "        print(\"oops\")\n",
    "        break\n"
   ]
  },
  {
   "cell_type": "code",
   "execution_count": null,
   "id": "ba4d3c9e-8de7-40f0-b0ab-1a13f45a3b53",
   "metadata": {},
   "outputs": [],
   "source": []
  }
 ],
 "metadata": {
  "kernelspec": {
   "display_name": "Python 3 (ipykernel)",
   "language": "python",
   "name": "python3"
  },
  "language_info": {
   "codemirror_mode": {
    "name": "ipython",
    "version": 3
   },
   "file_extension": ".py",
   "mimetype": "text/x-python",
   "name": "python",
   "nbconvert_exporter": "python",
   "pygments_lexer": "ipython3",
   "version": "3.12.7"
  }
 },
 "nbformat": 4,
 "nbformat_minor": 5
}
